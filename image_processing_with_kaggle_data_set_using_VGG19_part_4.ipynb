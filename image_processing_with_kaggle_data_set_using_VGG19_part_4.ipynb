{
  "nbformat": 4,
  "nbformat_minor": 0,
  "metadata": {
    "colab": {
      "name": "image processing with kaggle data set using VGG19 part-4.ipynb",
      "provenance": [],
      "collapsed_sections": [],
      "include_colab_link": true
    },
    "kernelspec": {
      "name": "python3",
      "display_name": "Python 3"
    },
    "widgets": {
      "application/vnd.jupyter.widget-state+json": {
        "04a2e6bfeff74b1a9d471e222dcf50de": {
          "model_module": "@jupyter-widgets/controls",
          "model_name": "HBoxModel",
          "state": {
            "_view_name": "HBoxView",
            "_dom_classes": [],
            "_model_name": "HBoxModel",
            "_view_module": "@jupyter-widgets/controls",
            "_model_module_version": "1.5.0",
            "_view_count": null,
            "_view_module_version": "1.5.0",
            "box_style": "",
            "layout": "IPY_MODEL_7556efd4851d4e0380219b53af3c26b2",
            "_model_module": "@jupyter-widgets/controls",
            "children": [
              "IPY_MODEL_521a72e6bcd540efa6cae4e995fadb3d",
              "IPY_MODEL_1f35614840584b7698efc40ea52291fe"
            ]
          }
        },
        "7556efd4851d4e0380219b53af3c26b2": {
          "model_module": "@jupyter-widgets/base",
          "model_name": "LayoutModel",
          "state": {
            "_view_name": "LayoutView",
            "grid_template_rows": null,
            "right": null,
            "justify_content": null,
            "_view_module": "@jupyter-widgets/base",
            "overflow": null,
            "_model_module_version": "1.2.0",
            "_view_count": null,
            "flex_flow": null,
            "width": null,
            "min_width": null,
            "border": null,
            "align_items": null,
            "bottom": null,
            "_model_module": "@jupyter-widgets/base",
            "top": null,
            "grid_column": null,
            "overflow_y": null,
            "overflow_x": null,
            "grid_auto_flow": null,
            "grid_area": null,
            "grid_template_columns": null,
            "flex": null,
            "_model_name": "LayoutModel",
            "justify_items": null,
            "grid_row": null,
            "max_height": null,
            "align_content": null,
            "visibility": null,
            "align_self": null,
            "height": null,
            "min_height": null,
            "padding": null,
            "grid_auto_rows": null,
            "grid_gap": null,
            "max_width": null,
            "order": null,
            "_view_module_version": "1.2.0",
            "grid_template_areas": null,
            "object_position": null,
            "object_fit": null,
            "grid_auto_columns": null,
            "margin": null,
            "display": null,
            "left": null
          }
        },
        "521a72e6bcd540efa6cae4e995fadb3d": {
          "model_module": "@jupyter-widgets/controls",
          "model_name": "FloatProgressModel",
          "state": {
            "_view_name": "ProgressView",
            "style": "IPY_MODEL_bbaba240e7214718871a205ec76db7ea",
            "_dom_classes": [],
            "description": "100%",
            "_model_name": "FloatProgressModel",
            "bar_style": "success",
            "max": 574673361,
            "_view_module": "@jupyter-widgets/controls",
            "_model_module_version": "1.5.0",
            "value": 574673361,
            "_view_count": null,
            "_view_module_version": "1.5.0",
            "orientation": "horizontal",
            "min": 0,
            "description_tooltip": null,
            "_model_module": "@jupyter-widgets/controls",
            "layout": "IPY_MODEL_f03431f5afbc484784baf628aaeaf219"
          }
        },
        "1f35614840584b7698efc40ea52291fe": {
          "model_module": "@jupyter-widgets/controls",
          "model_name": "HTMLModel",
          "state": {
            "_view_name": "HTMLView",
            "style": "IPY_MODEL_8eb52f4f0cdd4ec0b760b5e800535d99",
            "_dom_classes": [],
            "description": "",
            "_model_name": "HTMLModel",
            "placeholder": "​",
            "_view_module": "@jupyter-widgets/controls",
            "_model_module_version": "1.5.0",
            "value": " 548M/548M [00:08&lt;00:00, 71.0MB/s]",
            "_view_count": null,
            "_view_module_version": "1.5.0",
            "description_tooltip": null,
            "_model_module": "@jupyter-widgets/controls",
            "layout": "IPY_MODEL_24899a386b7b4655823a3bb8bcbd614f"
          }
        },
        "bbaba240e7214718871a205ec76db7ea": {
          "model_module": "@jupyter-widgets/controls",
          "model_name": "ProgressStyleModel",
          "state": {
            "_view_name": "StyleView",
            "_model_name": "ProgressStyleModel",
            "description_width": "initial",
            "_view_module": "@jupyter-widgets/base",
            "_model_module_version": "1.5.0",
            "_view_count": null,
            "_view_module_version": "1.2.0",
            "bar_color": null,
            "_model_module": "@jupyter-widgets/controls"
          }
        },
        "f03431f5afbc484784baf628aaeaf219": {
          "model_module": "@jupyter-widgets/base",
          "model_name": "LayoutModel",
          "state": {
            "_view_name": "LayoutView",
            "grid_template_rows": null,
            "right": null,
            "justify_content": null,
            "_view_module": "@jupyter-widgets/base",
            "overflow": null,
            "_model_module_version": "1.2.0",
            "_view_count": null,
            "flex_flow": null,
            "width": null,
            "min_width": null,
            "border": null,
            "align_items": null,
            "bottom": null,
            "_model_module": "@jupyter-widgets/base",
            "top": null,
            "grid_column": null,
            "overflow_y": null,
            "overflow_x": null,
            "grid_auto_flow": null,
            "grid_area": null,
            "grid_template_columns": null,
            "flex": null,
            "_model_name": "LayoutModel",
            "justify_items": null,
            "grid_row": null,
            "max_height": null,
            "align_content": null,
            "visibility": null,
            "align_self": null,
            "height": null,
            "min_height": null,
            "padding": null,
            "grid_auto_rows": null,
            "grid_gap": null,
            "max_width": null,
            "order": null,
            "_view_module_version": "1.2.0",
            "grid_template_areas": null,
            "object_position": null,
            "object_fit": null,
            "grid_auto_columns": null,
            "margin": null,
            "display": null,
            "left": null
          }
        },
        "8eb52f4f0cdd4ec0b760b5e800535d99": {
          "model_module": "@jupyter-widgets/controls",
          "model_name": "DescriptionStyleModel",
          "state": {
            "_view_name": "StyleView",
            "_model_name": "DescriptionStyleModel",
            "description_width": "",
            "_view_module": "@jupyter-widgets/base",
            "_model_module_version": "1.5.0",
            "_view_count": null,
            "_view_module_version": "1.2.0",
            "_model_module": "@jupyter-widgets/controls"
          }
        },
        "24899a386b7b4655823a3bb8bcbd614f": {
          "model_module": "@jupyter-widgets/base",
          "model_name": "LayoutModel",
          "state": {
            "_view_name": "LayoutView",
            "grid_template_rows": null,
            "right": null,
            "justify_content": null,
            "_view_module": "@jupyter-widgets/base",
            "overflow": null,
            "_model_module_version": "1.2.0",
            "_view_count": null,
            "flex_flow": null,
            "width": null,
            "min_width": null,
            "border": null,
            "align_items": null,
            "bottom": null,
            "_model_module": "@jupyter-widgets/base",
            "top": null,
            "grid_column": null,
            "overflow_y": null,
            "overflow_x": null,
            "grid_auto_flow": null,
            "grid_area": null,
            "grid_template_columns": null,
            "flex": null,
            "_model_name": "LayoutModel",
            "justify_items": null,
            "grid_row": null,
            "max_height": null,
            "align_content": null,
            "visibility": null,
            "align_self": null,
            "height": null,
            "min_height": null,
            "padding": null,
            "grid_auto_rows": null,
            "grid_gap": null,
            "max_width": null,
            "order": null,
            "_view_module_version": "1.2.0",
            "grid_template_areas": null,
            "object_position": null,
            "object_fit": null,
            "grid_auto_columns": null,
            "margin": null,
            "display": null,
            "left": null
          }
        }
      }
    },
    "accelerator": "GPU"
  },
  "cells": [
    {
      "cell_type": "markdown",
      "metadata": {
        "id": "view-in-github",
        "colab_type": "text"
      },
      "source": [
        "<a href=\"https://colab.research.google.com/github/MSaydurRahman/image-processing-with-kaggle-data-set/blob/main/image_processing_with_kaggle_data_set_using_VGG19_part_4.ipynb\" target=\"_parent\"><img src=\"https://colab.research.google.com/assets/colab-badge.svg\" alt=\"Open In Colab\"/></a>"
      ]
    },
    {
      "cell_type": "code",
      "metadata": {
        "id": "c-qxQs7YDK6G"
      },
      "source": [
        "import torch\n",
        "from torch import nn\n",
        "import pathlib\n",
        "from torch.utils.data import DataLoader\n",
        "from torchvision import *"
      ],
      "execution_count": null,
      "outputs": []
    },
    {
      "cell_type": "code",
      "metadata": {
        "id": "dBfehbTyDRez"
      },
      "source": [
        "device = torch.device(\"cuda:0\" if torch.cuda.is_available() else \"cpu\")"
      ],
      "execution_count": null,
      "outputs": []
    },
    {
      "cell_type": "code",
      "metadata": {
        "id": "dSQz9narDTqv"
      },
      "source": [
        "transformtrain = transforms.Compose([\n",
        "    transforms.Resize((150, 150)),\n",
        "    transforms.RandomHorizontalFlip(),\n",
        "    transforms.ToTensor(),\n",
        "    transforms.Normalize((.5, .5, .5), (.5, .5, .5))\n",
        "])\n",
        "transformtest = transforms.Compose([\n",
        "    transforms.Resize((150, 150)),\n",
        "    transforms.ToTensor(),\n",
        "    transforms.Normalize((.5, .5, .5), (.5, .5, .5))\n",
        "])"
      ],
      "execution_count": null,
      "outputs": []
    },
    {
      "cell_type": "code",
      "metadata": {
        "id": "12FcHHl4DYxF",
        "colab": {
          "base_uri": "https://localhost:8080/",
          "height": 34
        },
        "outputId": "a8612d5a-a1ae-4cbd-b549-9c99be352c1d"
      },
      "source": [
        "from google.colab import drive\n",
        "drive.mount('/content/drive')"
      ],
      "execution_count": null,
      "outputs": [
        {
          "output_type": "stream",
          "text": [
            "Mounted at /content/drive\n"
          ],
          "name": "stdout"
        }
      ]
    },
    {
      "cell_type": "code",
      "metadata": {
        "id": "VR-Kg_nYDXnU"
      },
      "source": [
        "trainds = datasets.ImageFolder('/content/drive/My Drive/Data/seg_train/seg_train', transform=transformtrain)\n",
        "testds = datasets.ImageFolder('/content/drive/My Drive/Data/seg_test/seg_test', transform=transformtest)"
      ],
      "execution_count": null,
      "outputs": []
    },
    {
      "cell_type": "code",
      "metadata": {
        "id": "uNDd-7rpFSEu"
      },
      "source": [
        "trainloader = DataLoader(trainds, batch_size=256, shuffle=True)\n",
        "testloader = DataLoader(testds, batch_size=64, shuffle=False)"
      ],
      "execution_count": null,
      "outputs": []
    },
    {
      "cell_type": "code",
      "metadata": {
        "id": "96o2wpUUFZ1I"
      },
      "source": [
        "root = pathlib.Path('/content/drive/My Drive/Data/seg_train/seg_train')\n",
        "classes = sorted([j.name.split('/')[-1] for j in root.iterdir()])"
      ],
      "execution_count": null,
      "outputs": []
    },
    {
      "cell_type": "code",
      "metadata": {
        "id": "DpFuc87dFdw9",
        "colab": {
          "base_uri": "https://localhost:8080/",
          "height": 83,
          "referenced_widgets": [
            "04a2e6bfeff74b1a9d471e222dcf50de",
            "7556efd4851d4e0380219b53af3c26b2",
            "521a72e6bcd540efa6cae4e995fadb3d",
            "1f35614840584b7698efc40ea52291fe",
            "bbaba240e7214718871a205ec76db7ea",
            "f03431f5afbc484784baf628aaeaf219",
            "8eb52f4f0cdd4ec0b760b5e800535d99",
            "24899a386b7b4655823a3bb8bcbd614f"
          ]
        },
        "outputId": "bf60e053-63f8-484f-d7a8-7fdf8627cdeb"
      },
      "source": [
        "model = models.vgg19(pretrained=True).to(device)\n",
        "for param in model.features.parameters():\n",
        "    param.requires_grad = False"
      ],
      "execution_count": null,
      "outputs": [
        {
          "output_type": "stream",
          "text": [
            "Downloading: \"https://download.pytorch.org/models/vgg19-dcbb9e9d.pth\" to /root/.cache/torch/hub/checkpoints/vgg19-dcbb9e9d.pth\n"
          ],
          "name": "stderr"
        },
        {
          "output_type": "display_data",
          "data": {
            "application/vnd.jupyter.widget-view+json": {
              "model_id": "04a2e6bfeff74b1a9d471e222dcf50de",
              "version_minor": 0,
              "version_major": 2
            },
            "text/plain": [
              "HBox(children=(FloatProgress(value=0.0, max=574673361.0), HTML(value='')))"
            ]
          },
          "metadata": {
            "tags": []
          }
        },
        {
          "output_type": "stream",
          "text": [
            "\n"
          ],
          "name": "stdout"
        }
      ]
    },
    {
      "cell_type": "code",
      "metadata": {
        "id": "I7QUFOn8FnhK",
        "colab": {
          "base_uri": "https://localhost:8080/",
          "height": 884
        },
        "outputId": "e45209f5-9c59-4ced-dfe8-cc1cd53a26c8"
      },
      "source": [
        "model"
      ],
      "execution_count": null,
      "outputs": [
        {
          "output_type": "execute_result",
          "data": {
            "text/plain": [
              "VGG(\n",
              "  (features): Sequential(\n",
              "    (0): Conv2d(3, 64, kernel_size=(3, 3), stride=(1, 1), padding=(1, 1))\n",
              "    (1): ReLU(inplace=True)\n",
              "    (2): Conv2d(64, 64, kernel_size=(3, 3), stride=(1, 1), padding=(1, 1))\n",
              "    (3): ReLU(inplace=True)\n",
              "    (4): MaxPool2d(kernel_size=2, stride=2, padding=0, dilation=1, ceil_mode=False)\n",
              "    (5): Conv2d(64, 128, kernel_size=(3, 3), stride=(1, 1), padding=(1, 1))\n",
              "    (6): ReLU(inplace=True)\n",
              "    (7): Conv2d(128, 128, kernel_size=(3, 3), stride=(1, 1), padding=(1, 1))\n",
              "    (8): ReLU(inplace=True)\n",
              "    (9): MaxPool2d(kernel_size=2, stride=2, padding=0, dilation=1, ceil_mode=False)\n",
              "    (10): Conv2d(128, 256, kernel_size=(3, 3), stride=(1, 1), padding=(1, 1))\n",
              "    (11): ReLU(inplace=True)\n",
              "    (12): Conv2d(256, 256, kernel_size=(3, 3), stride=(1, 1), padding=(1, 1))\n",
              "    (13): ReLU(inplace=True)\n",
              "    (14): Conv2d(256, 256, kernel_size=(3, 3), stride=(1, 1), padding=(1, 1))\n",
              "    (15): ReLU(inplace=True)\n",
              "    (16): Conv2d(256, 256, kernel_size=(3, 3), stride=(1, 1), padding=(1, 1))\n",
              "    (17): ReLU(inplace=True)\n",
              "    (18): MaxPool2d(kernel_size=2, stride=2, padding=0, dilation=1, ceil_mode=False)\n",
              "    (19): Conv2d(256, 512, kernel_size=(3, 3), stride=(1, 1), padding=(1, 1))\n",
              "    (20): ReLU(inplace=True)\n",
              "    (21): Conv2d(512, 512, kernel_size=(3, 3), stride=(1, 1), padding=(1, 1))\n",
              "    (22): ReLU(inplace=True)\n",
              "    (23): Conv2d(512, 512, kernel_size=(3, 3), stride=(1, 1), padding=(1, 1))\n",
              "    (24): ReLU(inplace=True)\n",
              "    (25): Conv2d(512, 512, kernel_size=(3, 3), stride=(1, 1), padding=(1, 1))\n",
              "    (26): ReLU(inplace=True)\n",
              "    (27): MaxPool2d(kernel_size=2, stride=2, padding=0, dilation=1, ceil_mode=False)\n",
              "    (28): Conv2d(512, 512, kernel_size=(3, 3), stride=(1, 1), padding=(1, 1))\n",
              "    (29): ReLU(inplace=True)\n",
              "    (30): Conv2d(512, 512, kernel_size=(3, 3), stride=(1, 1), padding=(1, 1))\n",
              "    (31): ReLU(inplace=True)\n",
              "    (32): Conv2d(512, 512, kernel_size=(3, 3), stride=(1, 1), padding=(1, 1))\n",
              "    (33): ReLU(inplace=True)\n",
              "    (34): Conv2d(512, 512, kernel_size=(3, 3), stride=(1, 1), padding=(1, 1))\n",
              "    (35): ReLU(inplace=True)\n",
              "    (36): MaxPool2d(kernel_size=2, stride=2, padding=0, dilation=1, ceil_mode=False)\n",
              "  )\n",
              "  (avgpool): AdaptiveAvgPool2d(output_size=(7, 7))\n",
              "  (classifier): Sequential(\n",
              "    (0): Linear(in_features=25088, out_features=4096, bias=True)\n",
              "    (1): ReLU(inplace=True)\n",
              "    (2): Dropout(p=0.5, inplace=False)\n",
              "    (3): Linear(in_features=4096, out_features=4096, bias=True)\n",
              "    (4): ReLU(inplace=True)\n",
              "    (5): Dropout(p=0.5, inplace=False)\n",
              "    (6): Linear(in_features=4096, out_features=1000, bias=True)\n",
              "  )\n",
              ")"
            ]
          },
          "metadata": {
            "tags": []
          },
          "execution_count": 9
        }
      ]
    },
    {
      "cell_type": "code",
      "metadata": {
        "id": "Kd8WumkjFr_k"
      },
      "source": [
        " model.classifier = nn.Sequential(\n",
        "      \n",
        "  nn.Linear(in_features=25088, out_features=2048) ,\n",
        "  nn.ReLU(),\n",
        "  nn.Linear(in_features=2048, out_features=512) ,\n",
        "  nn.ReLU(),\n",
        "  nn.Dropout(p=0.6), \n",
        "    \n",
        "  nn.Linear(in_features=512 , out_features=6),\n",
        "  nn.LogSoftmax(dim=1)  \n",
        ")\n",
        "criterion = nn.CrossEntropyLoss()\n",
        "optimizer = torch.optim.Adam(model.classifier.parameters(), lr=0.00001)"
      ],
      "execution_count": null,
      "outputs": []
    },
    {
      "cell_type": "code",
      "metadata": {
        "id": "v9koBQuxFvvk",
        "colab": {
          "base_uri": "https://localhost:8080/",
          "height": 1000
        },
        "outputId": "003bb110-4aa5-4af2-c8ed-df30d915e33c"
      },
      "source": [
        "trainlosses = []\n",
        "testlosses = []\n",
        "for e in range(50):\n",
        "    trainloss = 0\n",
        "    traintotal = 0\n",
        "    trainsuccessful = 0\n",
        "    for traininput, trainlabel in trainloader:\n",
        "        traininputs, trainlabels = traininput.to(device), trainlabel.to(device)\n",
        "        optimizer.zero_grad()\n",
        "        trainpredictions = model(traininputs)\n",
        "        _, trainpredict = torch.max(trainpredictions.data, 1)\n",
        "        loss = criterion(trainpredictions, trainlabels)\n",
        "        loss.backward()\n",
        "        optimizer.step()\n",
        "        trainloss += loss.item()\n",
        "        traintotal += trainlabels.size(0)\n",
        "        trainsuccessful += (trainpredict == trainlabels).sum().item()\n",
        "    else:\n",
        "        testloss = 0\n",
        "        testtotal = 0\n",
        "        testsuccessful = 0\n",
        "        with torch.no_grad():\n",
        "            for testinput, testlabel in testloader:\n",
        "                testinputs, testlabels = testinput.to(device), testlabel.to(device)\n",
        "                testpredictions = model(testinputs)\n",
        "                _, testpredict = torch.max(testpredictions.data, 1)\n",
        "                tloss = criterion(testpredictions, testlabels)\n",
        "                testloss += tloss.item()\n",
        "                testtotal += testlabels.size(0)\n",
        "                testsuccessful += (testpredict == testlabels).sum().item()\n",
        "        trainlosses.append(trainloss/len(trainloader))\n",
        "        testlosses.append(testloss/len(testloader))\n",
        "        print('Train Accuracy %{:.2f}'.format(100*trainsuccessful/traintotal))\n",
        "        print('Test Accuracy %{:.2f}'.format(100*testsuccessful/testtotal))"
      ],
      "execution_count": null,
      "outputs": [
        {
          "output_type": "stream",
          "text": [
            "Train Accuracy %65.95\n",
            "Test Accuracy %83.57\n",
            "Train Accuracy %85.87\n",
            "Test Accuracy %86.83\n",
            "Train Accuracy %88.29\n",
            "Test Accuracy %88.73\n",
            "Train Accuracy %89.55\n",
            "Test Accuracy %89.53\n",
            "Train Accuracy %90.20\n",
            "Test Accuracy %89.67\n",
            "Train Accuracy %90.75\n",
            "Test Accuracy %89.97\n",
            "Train Accuracy %91.24\n",
            "Test Accuracy %89.80\n",
            "Train Accuracy %91.47\n",
            "Test Accuracy %90.27\n",
            "Train Accuracy %91.96\n",
            "Test Accuracy %90.67\n",
            "Train Accuracy %92.50\n",
            "Test Accuracy %90.87\n",
            "Train Accuracy %92.77\n",
            "Test Accuracy %91.33\n",
            "Train Accuracy %92.80\n",
            "Test Accuracy %90.60\n",
            "Train Accuracy %93.24\n",
            "Test Accuracy %91.20\n",
            "Train Accuracy %93.61\n",
            "Test Accuracy %91.13\n",
            "Train Accuracy %94.03\n",
            "Test Accuracy %91.50\n",
            "Train Accuracy %93.99\n",
            "Test Accuracy %91.13\n",
            "Train Accuracy %94.38\n",
            "Test Accuracy %91.10\n",
            "Train Accuracy %94.33\n",
            "Test Accuracy %91.73\n",
            "Train Accuracy %94.66\n",
            "Test Accuracy %91.23\n",
            "Train Accuracy %95.05\n",
            "Test Accuracy %91.53\n",
            "Train Accuracy %95.10\n",
            "Test Accuracy %91.27\n",
            "Train Accuracy %95.25\n",
            "Test Accuracy %91.53\n",
            "Train Accuracy %95.61\n",
            "Test Accuracy %91.07\n",
            "Train Accuracy %95.33\n",
            "Test Accuracy %91.43\n",
            "Train Accuracy %95.60\n",
            "Test Accuracy %91.40\n",
            "Train Accuracy %96.12\n",
            "Test Accuracy %91.63\n",
            "Train Accuracy %96.06\n",
            "Test Accuracy %91.43\n",
            "Train Accuracy %96.29\n",
            "Test Accuracy %91.43\n",
            "Train Accuracy %96.51\n",
            "Test Accuracy %91.60\n",
            "Train Accuracy %96.64\n",
            "Test Accuracy %91.60\n",
            "Train Accuracy %96.81\n",
            "Test Accuracy %91.67\n",
            "Train Accuracy %96.77\n",
            "Test Accuracy %91.87\n",
            "Train Accuracy %96.93\n",
            "Test Accuracy %91.23\n",
            "Train Accuracy %97.46\n",
            "Test Accuracy %91.77\n",
            "Train Accuracy %97.29\n",
            "Test Accuracy %91.57\n",
            "Train Accuracy %97.42\n",
            "Test Accuracy %91.97\n",
            "Train Accuracy %97.68\n",
            "Test Accuracy %91.90\n",
            "Train Accuracy %97.75\n",
            "Test Accuracy %91.63\n",
            "Train Accuracy %97.98\n",
            "Test Accuracy %91.30\n",
            "Train Accuracy %97.96\n",
            "Test Accuracy %91.67\n",
            "Train Accuracy %98.03\n",
            "Test Accuracy %91.73\n",
            "Train Accuracy %98.05\n",
            "Test Accuracy %91.87\n",
            "Train Accuracy %98.17\n",
            "Test Accuracy %92.30\n",
            "Train Accuracy %98.37\n",
            "Test Accuracy %91.33\n",
            "Train Accuracy %98.46\n",
            "Test Accuracy %91.70\n",
            "Train Accuracy %98.53\n",
            "Test Accuracy %91.90\n",
            "Train Accuracy %98.39\n",
            "Test Accuracy %91.87\n",
            "Train Accuracy %98.73\n",
            "Test Accuracy %91.63\n",
            "Train Accuracy %98.73\n",
            "Test Accuracy %91.93\n",
            "Train Accuracy %98.82\n",
            "Test Accuracy %91.90\n"
          ],
          "name": "stdout"
        }
      ]
    }
  ]
}